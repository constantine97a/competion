{
 "cells": [
  {
   "cell_type": "code",
   "execution_count": 1,
   "metadata": {
    "collapsed": true
   },
   "outputs": [],
   "source": [
    "import pandas as pd\n",
    "import numpy as np\n",
    "from sklearn.model_selection import train_test_split\n",
    "import xgboost as xgb"
   ]
  },
  {
   "cell_type": "code",
   "execution_count": 2,
   "metadata": {
    "collapsed": true
   },
   "outputs": [],
   "source": [
    "holiday = ['2017-01-01','2017-01-02','2017-01-27','2017-01-28','2017-01-29','2017-01-30','2017-01-31','2017-02-01','2017-02-02','2017-04-02','2017-04-03','2017-04-04','2017-04-29',\n",
    "          '2017-04-30','2017-05-01','2017-05-28','2017-05-29','2017-05-30','2017-10-01','2017-10-02','2017-10-03','2017-10-04','2017-10-05','2017-10-06','2017-10-07','2017-10-08']"
   ]
  },
  {
   "cell_type": "code",
   "execution_count": 3,
   "metadata": {
    "collapsed": true
   },
   "outputs": [],
   "source": [
    "northesat = ['黑龙江省','吉林省','辽宁省']\n",
    "huaeast = ['上海市','江苏省','浙江省','安徽省','福建省','江西省','山东省','台湾省']\n",
    "huanorth = ['北京市','天津市','山西省','河北省','内蒙古自治区']\n",
    "huacenter = ['湖北省','湖南省','河南省']\n",
    "huasouth = ['广东省','广西壮族自治区','海南省','香港特别行政区','澳门特别行政区']\n",
    "southwest = ['四川省','贵州省','云南省','重庆市','西藏自治区']\n",
    "northwest = ['陕西省','甘肃省','青海省','宁夏回族自治区','新疆维吾尔自治区']"
   ]
  },
  {
   "cell_type": "code",
   "execution_count": 39,
   "metadata": {},
   "outputs": [
    {
     "name": "stderr",
     "output_type": "stream",
     "text": [
      "C:\\Users\\user\\Anaconda2\\envs\\py35\\lib\\site-packages\\IPython\\core\\interactiveshell.py:2698: DtypeWarning: Columns (38,39) have mixed types. Specify dtype option on import or set low_memory=False.\n",
      "  interactivity=interactivity, compiler=compiler, result=result)\n"
     ]
    }
   ],
   "source": [
    "data = pd.read_csv('detail_weather all_loc.csv')"
   ]
  },
  {
   "cell_type": "code",
   "execution_count": 40,
   "metadata": {
    "collapsed": true
   },
   "outputs": [],
   "source": [
    "oil = pd.read_csv('oil_fill.csv')\n",
    "oil.drop('Unnamed: 0',axis=1,inplace=True)"
   ]
  },
  {
   "cell_type": "code",
   "execution_count": 41,
   "metadata": {
    "collapsed": true
   },
   "outputs": [],
   "source": [
    "data.drop(['起运地经度','起运地纬度','目的地经度','目的地纬度','start_formatted_address','start_district','start_city','start_township','desti_formatted_address','desti_district','desti_city','desti_township','district_x','city_x','province_x','start_url','start_wind_direct','start_wind_scale','district_y','city_y','province_y','desti_url','desti_wind_direct','desti_wind_scale'],axis=1,inplace=True)"
   ]
  },
  {
   "cell_type": "code",
   "execution_count": 42,
   "metadata": {},
   "outputs": [
    {
     "name": "stderr",
     "output_type": "stream",
     "text": [
      "C:\\Users\\user\\Anaconda2\\envs\\py35\\lib\\site-packages\\ipykernel_launcher.py:1: UserWarning: Boolean Series key will be reindexed to match DataFrame index.\n",
      "  \"\"\"Entry point for launching an IPython kernel.\n"
     ]
    }
   ],
   "source": [
    "calc_nan = data[data['一级品类'] == 1][data['订单类型'] == 0][data['交易类型'] == 1][data['车型'] == 0]"
   ]
  },
  {
   "cell_type": "code",
   "execution_count": 43,
   "metadata": {
    "collapsed": true
   },
   "outputs": [],
   "source": [
    "data.loc[data['货值（吨/元）'].isnull(),'货值（吨/元）'] = calc_nan['货值（吨/元）'].median()"
   ]
  },
  {
   "cell_type": "code",
   "execution_count": 44,
   "metadata": {
    "collapsed": true
   },
   "outputs": [],
   "source": [
    "def calc_length(data):\n",
    "    cate = data['车型'].unique().tolist()\n",
    "    dd = pd.DataFrame()\n",
    "    for i in cate:\n",
    "        cate_data = data[data['车型'] == i]\n",
    "        cate_data.loc[cate_data['车长'].isnull(),'车长'] = cate_data.loc[data['车长'].notnull()]['车长'].median()\n",
    "        dd = dd.append(cate_data)\n",
    "    return dd"
   ]
  },
  {
   "cell_type": "code",
   "execution_count": 45,
   "metadata": {},
   "outputs": [
    {
     "name": "stderr",
     "output_type": "stream",
     "text": [
      "C:\\Users\\user\\Anaconda2\\envs\\py35\\lib\\site-packages\\pandas\\core\\indexing.py:517: SettingWithCopyWarning: \n",
      "A value is trying to be set on a copy of a slice from a DataFrame.\n",
      "Try using .loc[row_indexer,col_indexer] = value instead\n",
      "\n",
      "See the caveats in the documentation: http://pandas.pydata.org/pandas-docs/stable/indexing.html#indexing-view-versus-copy\n",
      "  self.obj[item] = s\n"
     ]
    }
   ],
   "source": [
    "data = calc_length(data)"
   ]
  },
  {
   "cell_type": "code",
   "execution_count": 46,
   "metadata": {},
   "outputs": [],
   "source": [
    "data = data.sort_values(by='Unnamed: 0',axis=0)"
   ]
  },
  {
   "cell_type": "code",
   "execution_count": 47,
   "metadata": {
    "collapsed": true
   },
   "outputs": [],
   "source": [
    "data.drop('Unnamed: 0',axis=1,inplace=True)"
   ]
  },
  {
   "cell_type": "code",
   "execution_count": 48,
   "metadata": {
    "collapsed": true
   },
   "outputs": [],
   "source": [
    "data = pd.merge(data,oil,on=['日期','start_province'],how='left')"
   ]
  },
  {
   "cell_type": "code",
   "execution_count": 49,
   "metadata": {
    "collapsed": true
   },
   "outputs": [],
   "source": [
    "data.drop(['start_weather','desti_max_temp','desti_min_temp','desti_weather'],axis=1,inplace=True)"
   ]
  },
  {
   "cell_type": "code",
   "execution_count": 50,
   "metadata": {
    "collapsed": true
   },
   "outputs": [],
   "source": [
    "data = data.join(pd.get_dummies(data['车型'],prefix='车型_'))"
   ]
  },
  {
   "cell_type": "code",
   "execution_count": 51,
   "metadata": {
    "collapsed": true
   },
   "outputs": [],
   "source": [
    "data.drop('车型',axis=1,inplace=True)"
   ]
  },
  {
   "cell_type": "code",
   "execution_count": 14,
   "metadata": {
    "collapsed": true
   },
   "outputs": [],
   "source": [
    "#data.to_csv('contest.csv')"
   ]
  },
  {
   "cell_type": "code",
   "execution_count": 30,
   "metadata": {
    "collapsed": true
   },
   "outputs": [],
   "source": [
    "data = pd.read_csv('contest.csv')"
   ]
  },
  {
   "cell_type": "code",
   "execution_count": 52,
   "metadata": {
    "collapsed": true
   },
   "outputs": [],
   "source": [
    "data.drop('详细品类',axis=1,inplace=True)"
   ]
  },
  {
   "cell_type": "code",
   "execution_count": 23,
   "metadata": {
    "collapsed": true
   },
   "outputs": [],
   "source": [
    "def date_transform(date):\n",
    "    if date in holiday:\n",
    "        x = 1\n",
    "    else:\n",
    "        x = 0\n",
    "    return x"
   ]
  },
  {
   "cell_type": "code",
   "execution_count": 24,
   "metadata": {
    "collapsed": true
   },
   "outputs": [],
   "source": [
    "date = data[['日期']].applymap(date_transform)\n",
    "date.rename(columns={'日期':'节日'},inplace=True)\n",
    "data = data.join(date)\n",
    "data.drop('日期',axis=1,inplace=True)"
   ]
  },
  {
   "cell_type": "code",
   "execution_count": 53,
   "metadata": {
    "collapsed": true
   },
   "outputs": [],
   "source": [
    "def season_transform(date):\n",
    "    if date[5:7] == '01' or date[5:7] == '02' or date[5:7] == '03':\n",
    "        x = 1\n",
    "    elif date[5:7] == '04' or date[5:7] == '05' or date[5:7] == '06':\n",
    "        x = 2\n",
    "    elif date[5:7] == '07' or date[5:7] == '08' or date[5:7] == '09':\n",
    "        x = 3\n",
    "    elif date[5:7] == '10' or date[5:7] == '11' or date[5:7] == '12':\n",
    "        x = 4\n",
    "    return x"
   ]
  },
  {
   "cell_type": "code",
   "execution_count": 54,
   "metadata": {
    "collapsed": true
   },
   "outputs": [],
   "source": [
    "date = data[['日期']].applymap(season_transform)\n",
    "date.rename(columns={'日期':'季节'},inplace=True)\n",
    "data = data.join(date)\n",
    "date_dummies = pd.get_dummies(data['季节'])\n",
    "date_dummies.rename(columns={1:'春',2:'夏',3:'秋',4:'冬'},inplace=True)\n",
    "data = data.join(date_dummies)\n",
    "data.drop('季节',axis=1,inplace=True)"
   ]
  },
  {
   "cell_type": "code",
   "execution_count": 55,
   "metadata": {
    "collapsed": true
   },
   "outputs": [],
   "source": [
    "data.drop('日期',axis=1,inplace=True)"
   ]
  },
  {
   "cell_type": "code",
   "execution_count": 56,
   "metadata": {
    "collapsed": true
   },
   "outputs": [],
   "source": [
    "data = data.join(pd.get_dummies(data['一级品类']))\n",
    "data.rename(columns={1:'品类1',2:'品类2',3:'品类3',4:'品类4'},inplace=True)"
   ]
  },
  {
   "cell_type": "code",
   "execution_count": 57,
   "metadata": {
    "collapsed": true
   },
   "outputs": [],
   "source": [
    "data.drop('一级品类',axis=1,inplace=True)"
   ]
  },
  {
   "cell_type": "code",
   "execution_count": 58,
   "metadata": {
    "collapsed": true
   },
   "outputs": [],
   "source": [
    "data.loc[data['desti_province'] == '[]','desti_province'] = '天津市'"
   ]
  },
  {
   "cell_type": "code",
   "execution_count": 59,
   "metadata": {
    "collapsed": true
   },
   "outputs": [],
   "source": [
    "def province_transform(province):\n",
    "    if province in northesat:\n",
    "        x = 1\n",
    "    elif province in huaeast:\n",
    "        x = 2\n",
    "    elif province in huanorth:\n",
    "        x = 3\n",
    "    elif province in huacenter:\n",
    "        x = 4\n",
    "    elif province in huasouth:\n",
    "        x = 5\n",
    "    elif province in southwest:\n",
    "        x = 6\n",
    "    elif province in northwest:\n",
    "        x = 7\n",
    "    return x"
   ]
  },
  {
   "cell_type": "code",
   "execution_count": 60,
   "metadata": {
    "collapsed": true
   },
   "outputs": [],
   "source": [
    "start_district = data[['start_province']].applymap(province_transform)\n",
    "start_district.rename(columns={'start_province':'start_district'},inplace=True)\n",
    "data = data.join(start_district)"
   ]
  },
  {
   "cell_type": "code",
   "execution_count": 61,
   "metadata": {
    "collapsed": true
   },
   "outputs": [],
   "source": [
    "desti_district = data[['desti_province']].applymap(province_transform)\n",
    "desti_district.rename(columns={'desti_province':'desti_district'},inplace=True)\n",
    "data = data.join(desti_district)"
   ]
  },
  {
   "cell_type": "code",
   "execution_count": 62,
   "metadata": {
    "collapsed": true
   },
   "outputs": [],
   "source": [
    "start_district_dummies = pd.get_dummies(data['start_district'],prefix='start_district_')\n",
    "desti_district_dummies = pd.get_dummies(data['desti_district'],prefix='desti_district_')"
   ]
  },
  {
   "cell_type": "code",
   "execution_count": 63,
   "metadata": {
    "collapsed": true
   },
   "outputs": [],
   "source": [
    "data = pd.concat([data,start_district_dummies,desti_district_dummies],axis=1)"
   ]
  },
  {
   "cell_type": "code",
   "execution_count": 64,
   "metadata": {
    "collapsed": true
   },
   "outputs": [],
   "source": [
    "data.drop(['start_province','desti_province','start_district','desti_district'],axis=1,inplace=True)"
   ]
  },
  {
   "cell_type": "code",
   "execution_count": 65,
   "metadata": {
    "collapsed": true
   },
   "outputs": [],
   "source": [
    "mean_temp = []\n",
    "for i in range(len(data)):\n",
    "    temp = (data['start_max_temp'][i] + data['start_min_temp'][i]) / 2\n",
    "    mean_temp.append(temp)\n",
    "mean_t = pd.DataFrame(mean_temp)"
   ]
  },
  {
   "cell_type": "code",
   "execution_count": 66,
   "metadata": {
    "collapsed": true
   },
   "outputs": [],
   "source": [
    "mean_t.rename(columns={0:'平均温度'},inplace=True)"
   ]
  },
  {
   "cell_type": "code",
   "execution_count": 67,
   "metadata": {
    "collapsed": true
   },
   "outputs": [],
   "source": [
    "data = data.join(mean_t)\n",
    "data.drop(['start_max_temp','start_min_temp'],axis=1,inplace=True)"
   ]
  },
  {
   "cell_type": "code",
   "execution_count": 69,
   "metadata": {
    "collapsed": true
   },
   "outputs": [],
   "source": [
    "data.to_csv('train_features(season).csv')"
   ]
  },
  {
   "cell_type": "code",
   "execution_count": 26,
   "metadata": {
    "collapsed": true
   },
   "outputs": [],
   "source": [
    "data = pd.read_csv('final_features.csv')\n",
    "data.drop('Unnamed: 0',axis=1,inplace=True)"
   ]
  },
  {
   "cell_type": "code",
   "execution_count": 68,
   "metadata": {
    "collapsed": true
   },
   "outputs": [],
   "source": [
    "std_oil_value = data[['oil_value']].apply(lambda x: (x - np.min(x)) / (np.max(x) - np.min(x)))\n",
    "std_oil_value.rename(columns={'oil_value':'标准化油价'},inplace=True)\n",
    "data = data.join(std_oil_value)\n",
    "std_value = data[['货值（吨/元）']].apply(lambda x: (x - np.min(x)) / (np.max(x) - np.min(x)))\n",
    "std_value.rename(columns={'货值（吨/元）':'标准化货值（吨/元）'},inplace=True)\n",
    "data = data.join(std_value)\n",
    "std_dist = data[['运距']].apply(lambda x: (x - np.min(x)) / (np.max(x) - np.min(x)))\n",
    "std_dist.rename(columns={'运距':'标准化运距'},inplace=True)\n",
    "data = data.join(std_dist)\n",
    "std_car_size = data[['车长']].apply(lambda x: (x - np.min(x)) / (np.max(x) - np.min(x)))\n",
    "std_car_size.rename(columns={'车长':'标准化车长'},inplace=True)\n",
    "data = data.join(std_car_size)\n",
    "std_temp = data[['平均温度']].apply(lambda x: (x - np.min(x)) / (np.max(x) - np.min(x)))\n",
    "std_temp.rename(columns={'平均温度':'标准化平均温度'},inplace=True)\n",
    "data = data.join(std_temp)\n",
    "data.drop(['oil_value','货值（吨/元）','运距','车长','平均温度'],axis=1,inplace=True)"
   ]
  },
  {
   "cell_type": "code",
   "execution_count": 21,
   "metadata": {
    "collapsed": true
   },
   "outputs": [],
   "source": [
    "y = data['运价（元/吨）']\n",
    "data.drop('运价（元/吨）',axis=1,inplace=True)"
   ]
  },
  {
   "cell_type": "code",
   "execution_count": 23,
   "metadata": {},
   "outputs": [
    {
     "name": "stderr",
     "output_type": "stream",
     "text": [
      "C:\\Users\\user\\Anaconda2\\envs\\py35\\lib\\site-packages\\sklearn\\model_selection\\_split.py:2010: FutureWarning: From version 0.21, test_size will always complement train_size unless both are specified.\n",
      "  FutureWarning)\n"
     ]
    }
   ],
   "source": [
    "x_train,x_test,y_train,y_test = train_test_split(data,y,train_size=0.8,random_state=1)\n",
    "data_train = xgb.DMatrix(x_train, label=y_train)\n",
    "data_test = xgb.DMatrix(x_test, label=y_test)\n",
    "watch_list = [(data_test, 'eval'), (data_train, 'train')]"
   ]
  },
  {
   "cell_type": "code",
   "execution_count": 24,
   "metadata": {
    "scrolled": true
   },
   "outputs": [
    {
     "name": "stdout",
     "output_type": "stream",
     "text": [
      "[0]\teval-tweedie-nloglik@1.5:205.764\ttrain-tweedie-nloglik@1.5:206.237\n",
      "[1]\teval-tweedie-nloglik@1.5:187.24\ttrain-tweedie-nloglik@1.5:187.669\n",
      "[2]\teval-tweedie-nloglik@1.5:170.582\ttrain-tweedie-nloglik@1.5:170.969\n",
      "[3]\teval-tweedie-nloglik@1.5:155.618\ttrain-tweedie-nloglik@1.5:155.969\n",
      "[4]\teval-tweedie-nloglik@1.5:142.197\ttrain-tweedie-nloglik@1.5:142.514\n",
      "[5]\teval-tweedie-nloglik@1.5:130.179\ttrain-tweedie-nloglik@1.5:130.466\n",
      "[6]\teval-tweedie-nloglik@1.5:119.439\ttrain-tweedie-nloglik@1.5:119.698\n",
      "[7]\teval-tweedie-nloglik@1.5:109.86\ttrain-tweedie-nloglik@1.5:110.095\n",
      "[8]\teval-tweedie-nloglik@1.5:101.342\ttrain-tweedie-nloglik@1.5:101.554\n",
      "[9]\teval-tweedie-nloglik@1.5:93.7869\ttrain-tweedie-nloglik@1.5:93.9787\n",
      "[10]\teval-tweedie-nloglik@1.5:87.1079\ttrain-tweedie-nloglik@1.5:87.281\n",
      "[11]\teval-tweedie-nloglik@1.5:81.2248\ttrain-tweedie-nloglik@1.5:81.3808\n",
      "[12]\teval-tweedie-nloglik@1.5:76.0642\ttrain-tweedie-nloglik@1.5:76.2035\n",
      "[13]\teval-tweedie-nloglik@1.5:71.5558\ttrain-tweedie-nloglik@1.5:71.6792\n",
      "[14]\teval-tweedie-nloglik@1.5:67.6348\ttrain-tweedie-nloglik@1.5:67.7432\n",
      "[15]\teval-tweedie-nloglik@1.5:64.2413\ttrain-tweedie-nloglik@1.5:64.3353\n",
      "[16]\teval-tweedie-nloglik@1.5:61.3151\ttrain-tweedie-nloglik@1.5:61.3992\n",
      "[17]\teval-tweedie-nloglik@1.5:58.8087\ttrain-tweedie-nloglik@1.5:58.8819\n",
      "[18]\teval-tweedie-nloglik@1.5:56.67\ttrain-tweedie-nloglik@1.5:56.7342\n",
      "[19]\teval-tweedie-nloglik@1.5:54.8541\ttrain-tweedie-nloglik@1.5:54.9107\n",
      "[20]\teval-tweedie-nloglik@1.5:53.3202\ttrain-tweedie-nloglik@1.5:53.3694\n",
      "[21]\teval-tweedie-nloglik@1.5:52.0292\ttrain-tweedie-nloglik@1.5:52.0729\n",
      "[22]\teval-tweedie-nloglik@1.5:50.9514\ttrain-tweedie-nloglik@1.5:50.9874\n",
      "[23]\teval-tweedie-nloglik@1.5:50.052\ttrain-tweedie-nloglik@1.5:50.0815\n",
      "[24]\teval-tweedie-nloglik@1.5:49.3046\ttrain-tweedie-nloglik@1.5:49.3291\n",
      "[25]\teval-tweedie-nloglik@1.5:48.685\ttrain-tweedie-nloglik@1.5:48.705\n",
      "[26]\teval-tweedie-nloglik@1.5:48.168\ttrain-tweedie-nloglik@1.5:48.1867\n",
      "[27]\teval-tweedie-nloglik@1.5:47.7458\ttrain-tweedie-nloglik@1.5:47.7579\n",
      "[28]\teval-tweedie-nloglik@1.5:47.4001\ttrain-tweedie-nloglik@1.5:47.406\n",
      "[29]\teval-tweedie-nloglik@1.5:47.1162\ttrain-tweedie-nloglik@1.5:47.1189\n",
      "[30]\teval-tweedie-nloglik@1.5:46.8838\ttrain-tweedie-nloglik@1.5:46.8831\n",
      "[31]\teval-tweedie-nloglik@1.5:46.6927\ttrain-tweedie-nloglik@1.5:46.6887\n",
      "[32]\teval-tweedie-nloglik@1.5:46.5356\ttrain-tweedie-nloglik@1.5:46.5291\n",
      "[33]\teval-tweedie-nloglik@1.5:46.4086\ttrain-tweedie-nloglik@1.5:46.3987\n",
      "[34]\teval-tweedie-nloglik@1.5:46.3051\ttrain-tweedie-nloglik@1.5:46.2905\n",
      "[35]\teval-tweedie-nloglik@1.5:46.2201\ttrain-tweedie-nloglik@1.5:46.2034\n",
      "[36]\teval-tweedie-nloglik@1.5:46.1499\ttrain-tweedie-nloglik@1.5:46.1313\n",
      "[37]\teval-tweedie-nloglik@1.5:46.0923\ttrain-tweedie-nloglik@1.5:46.0694\n",
      "[38]\teval-tweedie-nloglik@1.5:46.0429\ttrain-tweedie-nloglik@1.5:46.0171\n",
      "[39]\teval-tweedie-nloglik@1.5:46.0037\ttrain-tweedie-nloglik@1.5:45.9759\n",
      "[40]\teval-tweedie-nloglik@1.5:45.9718\ttrain-tweedie-nloglik@1.5:45.943\n",
      "[41]\teval-tweedie-nloglik@1.5:45.9428\ttrain-tweedie-nloglik@1.5:45.9143\n",
      "[42]\teval-tweedie-nloglik@1.5:45.9191\ttrain-tweedie-nloglik@1.5:45.8908\n",
      "[43]\teval-tweedie-nloglik@1.5:45.8993\ttrain-tweedie-nloglik@1.5:45.8696\n",
      "[44]\teval-tweedie-nloglik@1.5:45.8818\ttrain-tweedie-nloglik@1.5:45.8518\n",
      "[45]\teval-tweedie-nloglik@1.5:45.8695\ttrain-tweedie-nloglik@1.5:45.8387\n",
      "[46]\teval-tweedie-nloglik@1.5:45.8586\ttrain-tweedie-nloglik@1.5:45.8265\n",
      "[47]\teval-tweedie-nloglik@1.5:45.8507\ttrain-tweedie-nloglik@1.5:45.8177\n",
      "[48]\teval-tweedie-nloglik@1.5:45.8429\ttrain-tweedie-nloglik@1.5:45.8078\n",
      "[49]\teval-tweedie-nloglik@1.5:45.8361\ttrain-tweedie-nloglik@1.5:45.7989\n",
      "[50]\teval-tweedie-nloglik@1.5:45.8289\ttrain-tweedie-nloglik@1.5:45.7911\n",
      "[51]\teval-tweedie-nloglik@1.5:45.8223\ttrain-tweedie-nloglik@1.5:45.7846\n",
      "[52]\teval-tweedie-nloglik@1.5:45.8154\ttrain-tweedie-nloglik@1.5:45.7766\n",
      "[53]\teval-tweedie-nloglik@1.5:45.812\ttrain-tweedie-nloglik@1.5:45.7722\n",
      "[54]\teval-tweedie-nloglik@1.5:45.8046\ttrain-tweedie-nloglik@1.5:45.7636\n",
      "[55]\teval-tweedie-nloglik@1.5:45.7988\ttrain-tweedie-nloglik@1.5:45.7572\n",
      "[56]\teval-tweedie-nloglik@1.5:45.7957\ttrain-tweedie-nloglik@1.5:45.7529\n",
      "[57]\teval-tweedie-nloglik@1.5:45.7934\ttrain-tweedie-nloglik@1.5:45.7486\n",
      "[58]\teval-tweedie-nloglik@1.5:45.7898\ttrain-tweedie-nloglik@1.5:45.7434\n",
      "[59]\teval-tweedie-nloglik@1.5:45.7871\ttrain-tweedie-nloglik@1.5:45.7397\n",
      "[60]\teval-tweedie-nloglik@1.5:45.7855\ttrain-tweedie-nloglik@1.5:45.7367\n",
      "[61]\teval-tweedie-nloglik@1.5:45.7815\ttrain-tweedie-nloglik@1.5:45.7322\n",
      "[62]\teval-tweedie-nloglik@1.5:45.7803\ttrain-tweedie-nloglik@1.5:45.7295\n",
      "[63]\teval-tweedie-nloglik@1.5:45.779\ttrain-tweedie-nloglik@1.5:45.7266\n",
      "[64]\teval-tweedie-nloglik@1.5:45.7782\ttrain-tweedie-nloglik@1.5:45.7249\n",
      "[65]\teval-tweedie-nloglik@1.5:45.7772\ttrain-tweedie-nloglik@1.5:45.723\n",
      "[66]\teval-tweedie-nloglik@1.5:45.7762\ttrain-tweedie-nloglik@1.5:45.7195\n",
      "[67]\teval-tweedie-nloglik@1.5:45.775\ttrain-tweedie-nloglik@1.5:45.7162\n",
      "[68]\teval-tweedie-nloglik@1.5:45.7741\ttrain-tweedie-nloglik@1.5:45.7143\n",
      "[69]\teval-tweedie-nloglik@1.5:45.7735\ttrain-tweedie-nloglik@1.5:45.713\n",
      "[70]\teval-tweedie-nloglik@1.5:45.7707\ttrain-tweedie-nloglik@1.5:45.7098\n",
      "[71]\teval-tweedie-nloglik@1.5:45.7697\ttrain-tweedie-nloglik@1.5:45.7083\n",
      "[72]\teval-tweedie-nloglik@1.5:45.7689\ttrain-tweedie-nloglik@1.5:45.7051\n",
      "[73]\teval-tweedie-nloglik@1.5:45.7677\ttrain-tweedie-nloglik@1.5:45.7035\n",
      "[74]\teval-tweedie-nloglik@1.5:45.766\ttrain-tweedie-nloglik@1.5:45.7011\n",
      "[75]\teval-tweedie-nloglik@1.5:45.764\ttrain-tweedie-nloglik@1.5:45.6977\n",
      "[76]\teval-tweedie-nloglik@1.5:45.7633\ttrain-tweedie-nloglik@1.5:45.6966\n",
      "[77]\teval-tweedie-nloglik@1.5:45.7612\ttrain-tweedie-nloglik@1.5:45.6935\n",
      "[78]\teval-tweedie-nloglik@1.5:45.7605\ttrain-tweedie-nloglik@1.5:45.6926\n",
      "[79]\teval-tweedie-nloglik@1.5:45.7591\ttrain-tweedie-nloglik@1.5:45.6895\n",
      "[80]\teval-tweedie-nloglik@1.5:45.7582\ttrain-tweedie-nloglik@1.5:45.6875\n",
      "[81]\teval-tweedie-nloglik@1.5:45.7578\ttrain-tweedie-nloglik@1.5:45.6858\n",
      "[82]\teval-tweedie-nloglik@1.5:45.7569\ttrain-tweedie-nloglik@1.5:45.685\n",
      "[83]\teval-tweedie-nloglik@1.5:45.7557\ttrain-tweedie-nloglik@1.5:45.6814\n",
      "[84]\teval-tweedie-nloglik@1.5:45.7554\ttrain-tweedie-nloglik@1.5:45.6798\n",
      "[85]\teval-tweedie-nloglik@1.5:45.7546\ttrain-tweedie-nloglik@1.5:45.6788\n",
      "[86]\teval-tweedie-nloglik@1.5:45.7539\ttrain-tweedie-nloglik@1.5:45.6775\n",
      "[87]\teval-tweedie-nloglik@1.5:45.7532\ttrain-tweedie-nloglik@1.5:45.676\n",
      "[88]\teval-tweedie-nloglik@1.5:45.7523\ttrain-tweedie-nloglik@1.5:45.6748\n",
      "[89]\teval-tweedie-nloglik@1.5:45.7511\ttrain-tweedie-nloglik@1.5:45.6736\n",
      "[90]\teval-tweedie-nloglik@1.5:45.75\ttrain-tweedie-nloglik@1.5:45.6716\n",
      "[91]\teval-tweedie-nloglik@1.5:45.7483\ttrain-tweedie-nloglik@1.5:45.6682\n",
      "[92]\teval-tweedie-nloglik@1.5:45.7475\ttrain-tweedie-nloglik@1.5:45.6658\n",
      "[93]\teval-tweedie-nloglik@1.5:45.7471\ttrain-tweedie-nloglik@1.5:45.6644\n",
      "[94]\teval-tweedie-nloglik@1.5:45.7467\ttrain-tweedie-nloglik@1.5:45.6635\n",
      "[95]\teval-tweedie-nloglik@1.5:45.7462\ttrain-tweedie-nloglik@1.5:45.6626\n",
      "[96]\teval-tweedie-nloglik@1.5:45.7457\ttrain-tweedie-nloglik@1.5:45.6614\n",
      "[97]\teval-tweedie-nloglik@1.5:45.7443\ttrain-tweedie-nloglik@1.5:45.6589\n",
      "[98]\teval-tweedie-nloglik@1.5:45.7441\ttrain-tweedie-nloglik@1.5:45.6582\n",
      "[99]\teval-tweedie-nloglik@1.5:45.7429\ttrain-tweedie-nloglik@1.5:45.6562\n",
      "[100]\teval-tweedie-nloglik@1.5:45.7425\ttrain-tweedie-nloglik@1.5:45.6558\n",
      "[101]\teval-tweedie-nloglik@1.5:45.7409\ttrain-tweedie-nloglik@1.5:45.6531\n",
      "[102]\teval-tweedie-nloglik@1.5:45.7407\ttrain-tweedie-nloglik@1.5:45.6528\n",
      "[103]\teval-tweedie-nloglik@1.5:45.7401\ttrain-tweedie-nloglik@1.5:45.6518\n",
      "[104]\teval-tweedie-nloglik@1.5:45.7393\ttrain-tweedie-nloglik@1.5:45.6503\n",
      "[105]\teval-tweedie-nloglik@1.5:45.739\ttrain-tweedie-nloglik@1.5:45.6497\n",
      "[106]\teval-tweedie-nloglik@1.5:45.7381\ttrain-tweedie-nloglik@1.5:45.6481\n",
      "[107]\teval-tweedie-nloglik@1.5:45.7366\ttrain-tweedie-nloglik@1.5:45.6457\n",
      "[108]\teval-tweedie-nloglik@1.5:45.7354\ttrain-tweedie-nloglik@1.5:45.6429\n",
      "[109]\teval-tweedie-nloglik@1.5:45.7351\ttrain-tweedie-nloglik@1.5:45.6417\n",
      "[110]\teval-tweedie-nloglik@1.5:45.7349\ttrain-tweedie-nloglik@1.5:45.6415\n",
      "[111]\teval-tweedie-nloglik@1.5:45.7348\ttrain-tweedie-nloglik@1.5:45.641\n",
      "[112]\teval-tweedie-nloglik@1.5:45.7335\ttrain-tweedie-nloglik@1.5:45.6391\n",
      "[113]\teval-tweedie-nloglik@1.5:45.7333\ttrain-tweedie-nloglik@1.5:45.6387\n",
      "[114]\teval-tweedie-nloglik@1.5:45.7331\ttrain-tweedie-nloglik@1.5:45.6372\n",
      "[115]\teval-tweedie-nloglik@1.5:45.733\ttrain-tweedie-nloglik@1.5:45.6366\n",
      "[116]\teval-tweedie-nloglik@1.5:45.7323\ttrain-tweedie-nloglik@1.5:45.635\n",
      "[117]\teval-tweedie-nloglik@1.5:45.7307\ttrain-tweedie-nloglik@1.5:45.633\n",
      "[118]\teval-tweedie-nloglik@1.5:45.7305\ttrain-tweedie-nloglik@1.5:45.6327\n",
      "[119]\teval-tweedie-nloglik@1.5:45.7304\ttrain-tweedie-nloglik@1.5:45.6322\n",
      "[120]\teval-tweedie-nloglik@1.5:45.7303\ttrain-tweedie-nloglik@1.5:45.6319\n",
      "[121]\teval-tweedie-nloglik@1.5:45.7294\ttrain-tweedie-nloglik@1.5:45.6291\n",
      "[122]\teval-tweedie-nloglik@1.5:45.7292\ttrain-tweedie-nloglik@1.5:45.6287\n",
      "[123]\teval-tweedie-nloglik@1.5:45.7284\ttrain-tweedie-nloglik@1.5:45.6275\n",
      "[124]\teval-tweedie-nloglik@1.5:45.7278\ttrain-tweedie-nloglik@1.5:45.6261\n",
      "[125]\teval-tweedie-nloglik@1.5:45.7277\ttrain-tweedie-nloglik@1.5:45.6259\n",
      "[126]\teval-tweedie-nloglik@1.5:45.7274\ttrain-tweedie-nloglik@1.5:45.6251\n",
      "[127]\teval-tweedie-nloglik@1.5:45.7265\ttrain-tweedie-nloglik@1.5:45.6234\n",
      "[128]\teval-tweedie-nloglik@1.5:45.7261\ttrain-tweedie-nloglik@1.5:45.622\n",
      "[129]\teval-tweedie-nloglik@1.5:45.7254\ttrain-tweedie-nloglik@1.5:45.6205\n",
      "[130]\teval-tweedie-nloglik@1.5:45.7253\ttrain-tweedie-nloglik@1.5:45.6204\n",
      "[131]\teval-tweedie-nloglik@1.5:45.7249\ttrain-tweedie-nloglik@1.5:45.6196\n",
      "[132]\teval-tweedie-nloglik@1.5:45.7234\ttrain-tweedie-nloglik@1.5:45.6178\n",
      "[133]\teval-tweedie-nloglik@1.5:45.7233\ttrain-tweedie-nloglik@1.5:45.6175\n",
      "[134]\teval-tweedie-nloglik@1.5:45.7218\ttrain-tweedie-nloglik@1.5:45.6156\n",
      "[135]\teval-tweedie-nloglik@1.5:45.7208\ttrain-tweedie-nloglik@1.5:45.6142\n",
      "[136]\teval-tweedie-nloglik@1.5:45.7206\ttrain-tweedie-nloglik@1.5:45.614\n",
      "[137]\teval-tweedie-nloglik@1.5:45.7202\ttrain-tweedie-nloglik@1.5:45.6134\n",
      "[138]\teval-tweedie-nloglik@1.5:45.7201\ttrain-tweedie-nloglik@1.5:45.6132\n",
      "[139]\teval-tweedie-nloglik@1.5:45.72\ttrain-tweedie-nloglik@1.5:45.6124\n",
      "[140]\teval-tweedie-nloglik@1.5:45.7197\ttrain-tweedie-nloglik@1.5:45.612\n",
      "[141]\teval-tweedie-nloglik@1.5:45.7195\ttrain-tweedie-nloglik@1.5:45.6112\n",
      "[142]\teval-tweedie-nloglik@1.5:45.7194\ttrain-tweedie-nloglik@1.5:45.611\n",
      "[143]\teval-tweedie-nloglik@1.5:45.7193\ttrain-tweedie-nloglik@1.5:45.6108\n",
      "[144]\teval-tweedie-nloglik@1.5:45.7192\ttrain-tweedie-nloglik@1.5:45.6105\n",
      "[145]\teval-tweedie-nloglik@1.5:45.7191\ttrain-tweedie-nloglik@1.5:45.6096\n",
      "[146]\teval-tweedie-nloglik@1.5:45.7178\ttrain-tweedie-nloglik@1.5:45.6077\n",
      "[147]\teval-tweedie-nloglik@1.5:45.7175\ttrain-tweedie-nloglik@1.5:45.6074\n",
      "[148]\teval-tweedie-nloglik@1.5:45.7173\ttrain-tweedie-nloglik@1.5:45.6071\n",
      "[149]\teval-tweedie-nloglik@1.5:45.717\ttrain-tweedie-nloglik@1.5:45.6065\n",
      "[150]\teval-tweedie-nloglik@1.5:45.7163\ttrain-tweedie-nloglik@1.5:45.605\n",
      "[151]\teval-tweedie-nloglik@1.5:45.7161\ttrain-tweedie-nloglik@1.5:45.6043\n",
      "[152]\teval-tweedie-nloglik@1.5:45.716\ttrain-tweedie-nloglik@1.5:45.6041\n",
      "[153]\teval-tweedie-nloglik@1.5:45.7159\ttrain-tweedie-nloglik@1.5:45.603\n",
      "[154]\teval-tweedie-nloglik@1.5:45.7154\ttrain-tweedie-nloglik@1.5:45.6019\n",
      "[155]\teval-tweedie-nloglik@1.5:45.7152\ttrain-tweedie-nloglik@1.5:45.6007\n",
      "[156]\teval-tweedie-nloglik@1.5:45.7147\ttrain-tweedie-nloglik@1.5:45.5995\n",
      "[157]\teval-tweedie-nloglik@1.5:45.7146\ttrain-tweedie-nloglik@1.5:45.5992\n",
      "[158]\teval-tweedie-nloglik@1.5:45.7144\ttrain-tweedie-nloglik@1.5:45.5987\n",
      "[159]\teval-tweedie-nloglik@1.5:45.7135\ttrain-tweedie-nloglik@1.5:45.5974\n",
      "[160]\teval-tweedie-nloglik@1.5:45.7134\ttrain-tweedie-nloglik@1.5:45.5972\n",
      "[161]\teval-tweedie-nloglik@1.5:45.7129\ttrain-tweedie-nloglik@1.5:45.5963\n",
      "[162]\teval-tweedie-nloglik@1.5:45.7127\ttrain-tweedie-nloglik@1.5:45.5954\n",
      "[163]\teval-tweedie-nloglik@1.5:45.7126\ttrain-tweedie-nloglik@1.5:45.5951\n",
      "[164]\teval-tweedie-nloglik@1.5:45.7125\ttrain-tweedie-nloglik@1.5:45.5939\n",
      "[165]\teval-tweedie-nloglik@1.5:45.712\ttrain-tweedie-nloglik@1.5:45.5928\n",
      "[166]\teval-tweedie-nloglik@1.5:45.7105\ttrain-tweedie-nloglik@1.5:45.5918\n",
      "[167]\teval-tweedie-nloglik@1.5:45.7103\ttrain-tweedie-nloglik@1.5:45.5912\n",
      "[168]\teval-tweedie-nloglik@1.5:45.7102\ttrain-tweedie-nloglik@1.5:45.5898\n",
      "[169]\teval-tweedie-nloglik@1.5:45.7099\ttrain-tweedie-nloglik@1.5:45.589\n",
      "[170]\teval-tweedie-nloglik@1.5:45.7099\ttrain-tweedie-nloglik@1.5:45.5885\n",
      "[171]\teval-tweedie-nloglik@1.5:45.7095\ttrain-tweedie-nloglik@1.5:45.5877\n",
      "[172]\teval-tweedie-nloglik@1.5:45.7095\ttrain-tweedie-nloglik@1.5:45.5866\n",
      "[173]\teval-tweedie-nloglik@1.5:45.7095\ttrain-tweedie-nloglik@1.5:45.5866\n",
      "[174]\teval-tweedie-nloglik@1.5:45.7077\ttrain-tweedie-nloglik@1.5:45.5843\n",
      "[175]\teval-tweedie-nloglik@1.5:45.7076\ttrain-tweedie-nloglik@1.5:45.5842\n",
      "[176]\teval-tweedie-nloglik@1.5:45.7073\ttrain-tweedie-nloglik@1.5:45.5838\n",
      "[177]\teval-tweedie-nloglik@1.5:45.7062\ttrain-tweedie-nloglik@1.5:45.5826\n",
      "[178]\teval-tweedie-nloglik@1.5:45.7059\ttrain-tweedie-nloglik@1.5:45.581\n",
      "[179]\teval-tweedie-nloglik@1.5:45.705\ttrain-tweedie-nloglik@1.5:45.5799\n",
      "[180]\teval-tweedie-nloglik@1.5:45.7033\ttrain-tweedie-nloglik@1.5:45.5785\n",
      "[181]\teval-tweedie-nloglik@1.5:45.7023\ttrain-tweedie-nloglik@1.5:45.5771\n",
      "[182]\teval-tweedie-nloglik@1.5:45.7017\ttrain-tweedie-nloglik@1.5:45.5754\n",
      "[183]\teval-tweedie-nloglik@1.5:45.7011\ttrain-tweedie-nloglik@1.5:45.5739\n",
      "[184]\teval-tweedie-nloglik@1.5:45.701\ttrain-tweedie-nloglik@1.5:45.5732\n",
      "[185]\teval-tweedie-nloglik@1.5:45.7008\ttrain-tweedie-nloglik@1.5:45.5727\n",
      "[186]\teval-tweedie-nloglik@1.5:45.7002\ttrain-tweedie-nloglik@1.5:45.572\n",
      "[187]\teval-tweedie-nloglik@1.5:45.7\ttrain-tweedie-nloglik@1.5:45.5717\n",
      "[188]\teval-tweedie-nloglik@1.5:45.6999\ttrain-tweedie-nloglik@1.5:45.5715\n",
      "[189]\teval-tweedie-nloglik@1.5:45.6997\ttrain-tweedie-nloglik@1.5:45.5712\n",
      "[190]\teval-tweedie-nloglik@1.5:45.6996\ttrain-tweedie-nloglik@1.5:45.5711\n",
      "[191]\teval-tweedie-nloglik@1.5:45.6996\ttrain-tweedie-nloglik@1.5:45.5711\n",
      "[192]\teval-tweedie-nloglik@1.5:45.6996\ttrain-tweedie-nloglik@1.5:45.571\n",
      "[193]\teval-tweedie-nloglik@1.5:45.6992\ttrain-tweedie-nloglik@1.5:45.5702\n",
      "[194]\teval-tweedie-nloglik@1.5:45.6985\ttrain-tweedie-nloglik@1.5:45.5694\n",
      "[195]\teval-tweedie-nloglik@1.5:45.6984\ttrain-tweedie-nloglik@1.5:45.5689\n",
      "[196]\teval-tweedie-nloglik@1.5:45.6983\ttrain-tweedie-nloglik@1.5:45.5684\n",
      "[197]\teval-tweedie-nloglik@1.5:45.6982\ttrain-tweedie-nloglik@1.5:45.568\n",
      "[198]\teval-tweedie-nloglik@1.5:45.6981\ttrain-tweedie-nloglik@1.5:45.5678\n",
      "[199]\teval-tweedie-nloglik@1.5:45.6981\ttrain-tweedie-nloglik@1.5:45.5678\n",
      "[200]\teval-tweedie-nloglik@1.5:45.698\ttrain-tweedie-nloglik@1.5:45.5676\n",
      "[201]\teval-tweedie-nloglik@1.5:45.6978\ttrain-tweedie-nloglik@1.5:45.5672\n",
      "[202]\teval-tweedie-nloglik@1.5:45.6978\ttrain-tweedie-nloglik@1.5:45.5672\n",
      "[203]\teval-tweedie-nloglik@1.5:45.6978\ttrain-tweedie-nloglik@1.5:45.567\n",
      "[204]\teval-tweedie-nloglik@1.5:45.6978\ttrain-tweedie-nloglik@1.5:45.567\n",
      "[205]\teval-tweedie-nloglik@1.5:45.6978\ttrain-tweedie-nloglik@1.5:45.5666\n",
      "[206]\teval-tweedie-nloglik@1.5:45.6975\ttrain-tweedie-nloglik@1.5:45.5664\n",
      "[207]\teval-tweedie-nloglik@1.5:45.6971\ttrain-tweedie-nloglik@1.5:45.5651\n",
      "[208]\teval-tweedie-nloglik@1.5:45.6969\ttrain-tweedie-nloglik@1.5:45.5646\n",
      "[209]\teval-tweedie-nloglik@1.5:45.6957\ttrain-tweedie-nloglik@1.5:45.5622\n",
      "[210]\teval-tweedie-nloglik@1.5:45.6954\ttrain-tweedie-nloglik@1.5:45.5615\n",
      "[211]\teval-tweedie-nloglik@1.5:45.6951\ttrain-tweedie-nloglik@1.5:45.561\n",
      "[212]\teval-tweedie-nloglik@1.5:45.6948\ttrain-tweedie-nloglik@1.5:45.5598\n",
      "[213]\teval-tweedie-nloglik@1.5:45.6948\ttrain-tweedie-nloglik@1.5:45.5597\n",
      "[214]\teval-tweedie-nloglik@1.5:45.6948\ttrain-tweedie-nloglik@1.5:45.5595\n",
      "[215]\teval-tweedie-nloglik@1.5:45.6946\ttrain-tweedie-nloglik@1.5:45.559\n",
      "[216]\teval-tweedie-nloglik@1.5:45.6945\ttrain-tweedie-nloglik@1.5:45.5588\n",
      "[217]\teval-tweedie-nloglik@1.5:45.6944\ttrain-tweedie-nloglik@1.5:45.5585\n",
      "[218]\teval-tweedie-nloglik@1.5:45.6944\ttrain-tweedie-nloglik@1.5:45.5578\n",
      "[219]\teval-tweedie-nloglik@1.5:45.6945\ttrain-tweedie-nloglik@1.5:45.5571\n",
      "[220]\teval-tweedie-nloglik@1.5:45.6943\ttrain-tweedie-nloglik@1.5:45.5569\n",
      "[221]\teval-tweedie-nloglik@1.5:45.6943\ttrain-tweedie-nloglik@1.5:45.5568\n",
      "[222]\teval-tweedie-nloglik@1.5:45.6942\ttrain-tweedie-nloglik@1.5:45.5567\n",
      "[223]\teval-tweedie-nloglik@1.5:45.6942\ttrain-tweedie-nloglik@1.5:45.5566\n",
      "[224]\teval-tweedie-nloglik@1.5:45.6942\ttrain-tweedie-nloglik@1.5:45.5566\n",
      "[225]\teval-tweedie-nloglik@1.5:45.6941\ttrain-tweedie-nloglik@1.5:45.556\n",
      "[226]\teval-tweedie-nloglik@1.5:45.6939\ttrain-tweedie-nloglik@1.5:45.5552\n",
      "[227]\teval-tweedie-nloglik@1.5:45.6938\ttrain-tweedie-nloglik@1.5:45.5549\n",
      "[228]\teval-tweedie-nloglik@1.5:45.6937\ttrain-tweedie-nloglik@1.5:45.5539\n",
      "[229]\teval-tweedie-nloglik@1.5:45.6932\ttrain-tweedie-nloglik@1.5:45.5532\n",
      "[230]\teval-tweedie-nloglik@1.5:45.6931\ttrain-tweedie-nloglik@1.5:45.5528\n",
      "[231]\teval-tweedie-nloglik@1.5:45.6929\ttrain-tweedie-nloglik@1.5:45.5524\n",
      "[232]\teval-tweedie-nloglik@1.5:45.6924\ttrain-tweedie-nloglik@1.5:45.5508\n",
      "[233]\teval-tweedie-nloglik@1.5:45.6921\ttrain-tweedie-nloglik@1.5:45.5498\n",
      "[234]\teval-tweedie-nloglik@1.5:45.6916\ttrain-tweedie-nloglik@1.5:45.5489\n",
      "[235]\teval-tweedie-nloglik@1.5:45.6914\ttrain-tweedie-nloglik@1.5:45.5484\n",
      "[236]\teval-tweedie-nloglik@1.5:45.6913\ttrain-tweedie-nloglik@1.5:45.5483\n",
      "[237]\teval-tweedie-nloglik@1.5:45.6913\ttrain-tweedie-nloglik@1.5:45.5482\n",
      "[238]\teval-tweedie-nloglik@1.5:45.6913\ttrain-tweedie-nloglik@1.5:45.5482\n",
      "[239]\teval-tweedie-nloglik@1.5:45.691\ttrain-tweedie-nloglik@1.5:45.5472\n",
      "[240]\teval-tweedie-nloglik@1.5:45.6909\ttrain-tweedie-nloglik@1.5:45.5471\n",
      "[241]\teval-tweedie-nloglik@1.5:45.6909\ttrain-tweedie-nloglik@1.5:45.5466\n",
      "[242]\teval-tweedie-nloglik@1.5:45.6906\ttrain-tweedie-nloglik@1.5:45.5457\n",
      "[243]\teval-tweedie-nloglik@1.5:45.6905\ttrain-tweedie-nloglik@1.5:45.5455\n",
      "[244]\teval-tweedie-nloglik@1.5:45.6902\ttrain-tweedie-nloglik@1.5:45.5449\n",
      "[245]\teval-tweedie-nloglik@1.5:45.6902\ttrain-tweedie-nloglik@1.5:45.5443\n",
      "[246]\teval-tweedie-nloglik@1.5:45.69\ttrain-tweedie-nloglik@1.5:45.5439\n",
      "[247]\teval-tweedie-nloglik@1.5:45.69\ttrain-tweedie-nloglik@1.5:45.5438\n",
      "[248]\teval-tweedie-nloglik@1.5:45.6899\ttrain-tweedie-nloglik@1.5:45.5438\n",
      "[249]\teval-tweedie-nloglik@1.5:45.6899\ttrain-tweedie-nloglik@1.5:45.5437\n",
      "[250]\teval-tweedie-nloglik@1.5:45.6897\ttrain-tweedie-nloglik@1.5:45.5432\n",
      "[251]\teval-tweedie-nloglik@1.5:45.6892\ttrain-tweedie-nloglik@1.5:45.5415\n",
      "[252]\teval-tweedie-nloglik@1.5:45.6892\ttrain-tweedie-nloglik@1.5:45.5414\n",
      "[253]\teval-tweedie-nloglik@1.5:45.6888\ttrain-tweedie-nloglik@1.5:45.5398\n",
      "[254]\teval-tweedie-nloglik@1.5:45.6883\ttrain-tweedie-nloglik@1.5:45.5382\n",
      "[255]\teval-tweedie-nloglik@1.5:45.6884\ttrain-tweedie-nloglik@1.5:45.5377\n",
      "[256]\teval-tweedie-nloglik@1.5:45.6877\ttrain-tweedie-nloglik@1.5:45.5366\n",
      "[257]\teval-tweedie-nloglik@1.5:45.6874\ttrain-tweedie-nloglik@1.5:45.5358\n",
      "[258]\teval-tweedie-nloglik@1.5:45.6873\ttrain-tweedie-nloglik@1.5:45.5351\n",
      "[259]\teval-tweedie-nloglik@1.5:45.6873\ttrain-tweedie-nloglik@1.5:45.5351\n",
      "[260]\teval-tweedie-nloglik@1.5:45.6873\ttrain-tweedie-nloglik@1.5:45.535\n",
      "[261]\teval-tweedie-nloglik@1.5:45.6873\ttrain-tweedie-nloglik@1.5:45.535\n",
      "[262]\teval-tweedie-nloglik@1.5:45.6872\ttrain-tweedie-nloglik@1.5:45.5347\n",
      "[263]\teval-tweedie-nloglik@1.5:45.687\ttrain-tweedie-nloglik@1.5:45.5341\n",
      "[264]\teval-tweedie-nloglik@1.5:45.6869\ttrain-tweedie-nloglik@1.5:45.5334\n",
      "[265]\teval-tweedie-nloglik@1.5:45.6868\ttrain-tweedie-nloglik@1.5:45.5332\n",
      "[266]\teval-tweedie-nloglik@1.5:45.6867\ttrain-tweedie-nloglik@1.5:45.5315\n",
      "[267]\teval-tweedie-nloglik@1.5:45.6866\ttrain-tweedie-nloglik@1.5:45.5312\n",
      "[268]\teval-tweedie-nloglik@1.5:45.6866\ttrain-tweedie-nloglik@1.5:45.5311\n",
      "[269]\teval-tweedie-nloglik@1.5:45.6864\ttrain-tweedie-nloglik@1.5:45.5305\n",
      "[270]\teval-tweedie-nloglik@1.5:45.6861\ttrain-tweedie-nloglik@1.5:45.5299\n",
      "[271]\teval-tweedie-nloglik@1.5:45.686\ttrain-tweedie-nloglik@1.5:45.5298\n",
      "[272]\teval-tweedie-nloglik@1.5:45.6859\ttrain-tweedie-nloglik@1.5:45.5295\n",
      "[273]\teval-tweedie-nloglik@1.5:45.6859\ttrain-tweedie-nloglik@1.5:45.5294\n",
      "[274]\teval-tweedie-nloglik@1.5:45.6855\ttrain-tweedie-nloglik@1.5:45.529\n",
      "[275]\teval-tweedie-nloglik@1.5:45.6846\ttrain-tweedie-nloglik@1.5:45.5274\n",
      "[276]\teval-tweedie-nloglik@1.5:45.6842\ttrain-tweedie-nloglik@1.5:45.5267\n",
      "[277]\teval-tweedie-nloglik@1.5:45.684\ttrain-tweedie-nloglik@1.5:45.5253\n",
      "[278]\teval-tweedie-nloglik@1.5:45.6836\ttrain-tweedie-nloglik@1.5:45.5239\n",
      "[279]\teval-tweedie-nloglik@1.5:45.6832\ttrain-tweedie-nloglik@1.5:45.5222\n",
      "[280]\teval-tweedie-nloglik@1.5:45.6828\ttrain-tweedie-nloglik@1.5:45.5207\n",
      "[281]\teval-tweedie-nloglik@1.5:45.6827\ttrain-tweedie-nloglik@1.5:45.5202\n",
      "[282]\teval-tweedie-nloglik@1.5:45.6823\ttrain-tweedie-nloglik@1.5:45.5187\n",
      "[283]\teval-tweedie-nloglik@1.5:45.6817\ttrain-tweedie-nloglik@1.5:45.5181\n",
      "[284]\teval-tweedie-nloglik@1.5:45.6817\ttrain-tweedie-nloglik@1.5:45.5177\n",
      "[285]\teval-tweedie-nloglik@1.5:45.6816\ttrain-tweedie-nloglik@1.5:45.5173\n",
      "[286]\teval-tweedie-nloglik@1.5:45.6812\ttrain-tweedie-nloglik@1.5:45.516\n",
      "[287]\teval-tweedie-nloglik@1.5:45.681\ttrain-tweedie-nloglik@1.5:45.5157\n",
      "[288]\teval-tweedie-nloglik@1.5:45.6802\ttrain-tweedie-nloglik@1.5:45.5151\n",
      "[289]\teval-tweedie-nloglik@1.5:45.6795\ttrain-tweedie-nloglik@1.5:45.5145\n",
      "[290]\teval-tweedie-nloglik@1.5:45.6795\ttrain-tweedie-nloglik@1.5:45.5144\n",
      "[291]\teval-tweedie-nloglik@1.5:45.6795\ttrain-tweedie-nloglik@1.5:45.5143\n",
      "[292]\teval-tweedie-nloglik@1.5:45.6796\ttrain-tweedie-nloglik@1.5:45.5141\n",
      "[293]\teval-tweedie-nloglik@1.5:45.6792\ttrain-tweedie-nloglik@1.5:45.5129\n",
      "[294]\teval-tweedie-nloglik@1.5:45.6791\ttrain-tweedie-nloglik@1.5:45.5121\n",
      "[295]\teval-tweedie-nloglik@1.5:45.6783\ttrain-tweedie-nloglik@1.5:45.5107\n",
      "[296]\teval-tweedie-nloglik@1.5:45.6781\ttrain-tweedie-nloglik@1.5:45.5095\n",
      "[297]\teval-tweedie-nloglik@1.5:45.678\ttrain-tweedie-nloglik@1.5:45.5092\n",
      "[298]\teval-tweedie-nloglik@1.5:45.678\ttrain-tweedie-nloglik@1.5:45.5087\n",
      "[299]\teval-tweedie-nloglik@1.5:45.6779\ttrain-tweedie-nloglik@1.5:45.5087\n",
      "[300]\teval-tweedie-nloglik@1.5:45.678\ttrain-tweedie-nloglik@1.5:45.5086\n",
      "[301]\teval-tweedie-nloglik@1.5:45.6778\ttrain-tweedie-nloglik@1.5:45.5082\n",
      "[302]\teval-tweedie-nloglik@1.5:45.6778\ttrain-tweedie-nloglik@1.5:45.508\n",
      "[303]\teval-tweedie-nloglik@1.5:45.6778\ttrain-tweedie-nloglik@1.5:45.508\n",
      "[304]\teval-tweedie-nloglik@1.5:45.6777\ttrain-tweedie-nloglik@1.5:45.5078\n",
      "[305]\teval-tweedie-nloglik@1.5:45.6776\ttrain-tweedie-nloglik@1.5:45.5073\n",
      "[306]\teval-tweedie-nloglik@1.5:45.6775\ttrain-tweedie-nloglik@1.5:45.507\n",
      "[307]\teval-tweedie-nloglik@1.5:45.6775\ttrain-tweedie-nloglik@1.5:45.5069\n",
      "[308]\teval-tweedie-nloglik@1.5:45.6775\ttrain-tweedie-nloglik@1.5:45.5068\n",
      "[309]\teval-tweedie-nloglik@1.5:45.6775\ttrain-tweedie-nloglik@1.5:45.5064\n",
      "[310]\teval-tweedie-nloglik@1.5:45.6773\ttrain-tweedie-nloglik@1.5:45.5061\n",
      "[311]\teval-tweedie-nloglik@1.5:45.6773\ttrain-tweedie-nloglik@1.5:45.5061\n",
      "[312]\teval-tweedie-nloglik@1.5:45.6773\ttrain-tweedie-nloglik@1.5:45.506\n",
      "[313]\teval-tweedie-nloglik@1.5:45.6772\ttrain-tweedie-nloglik@1.5:45.5059\n",
      "[314]\teval-tweedie-nloglik@1.5:45.6771\ttrain-tweedie-nloglik@1.5:45.5055\n",
      "[315]\teval-tweedie-nloglik@1.5:45.677\ttrain-tweedie-nloglik@1.5:45.5048\n",
      "[316]\teval-tweedie-nloglik@1.5:45.6771\ttrain-tweedie-nloglik@1.5:45.5039\n",
      "[317]\teval-tweedie-nloglik@1.5:45.6771\ttrain-tweedie-nloglik@1.5:45.5039\n",
      "[318]\teval-tweedie-nloglik@1.5:45.6768\ttrain-tweedie-nloglik@1.5:45.5036\n",
      "[319]\teval-tweedie-nloglik@1.5:45.6762\ttrain-tweedie-nloglik@1.5:45.5029\n",
      "[320]\teval-tweedie-nloglik@1.5:45.6761\ttrain-tweedie-nloglik@1.5:45.5025\n",
      "[321]\teval-tweedie-nloglik@1.5:45.6761\ttrain-tweedie-nloglik@1.5:45.5024\n",
      "[322]\teval-tweedie-nloglik@1.5:45.6763\ttrain-tweedie-nloglik@1.5:45.5019\n",
      "[323]\teval-tweedie-nloglik@1.5:45.6764\ttrain-tweedie-nloglik@1.5:45.5006\n",
      "[324]\teval-tweedie-nloglik@1.5:45.6757\ttrain-tweedie-nloglik@1.5:45.5001\n",
      "[325]\teval-tweedie-nloglik@1.5:45.6757\ttrain-tweedie-nloglik@1.5:45.4991\n",
      "[326]\teval-tweedie-nloglik@1.5:45.6757\ttrain-tweedie-nloglik@1.5:45.4983\n",
      "[327]\teval-tweedie-nloglik@1.5:45.6757\ttrain-tweedie-nloglik@1.5:45.4981\n",
      "[328]\teval-tweedie-nloglik@1.5:45.6755\ttrain-tweedie-nloglik@1.5:45.4978\n",
      "[329]\teval-tweedie-nloglik@1.5:45.6755\ttrain-tweedie-nloglik@1.5:45.4968\n",
      "[330]\teval-tweedie-nloglik@1.5:45.6752\ttrain-tweedie-nloglik@1.5:45.4959\n",
      "[331]\teval-tweedie-nloglik@1.5:45.6753\ttrain-tweedie-nloglik@1.5:45.4954\n",
      "[332]\teval-tweedie-nloglik@1.5:45.6753\ttrain-tweedie-nloglik@1.5:45.4948\n",
      "[333]\teval-tweedie-nloglik@1.5:45.6751\ttrain-tweedie-nloglik@1.5:45.4943\n",
      "[334]\teval-tweedie-nloglik@1.5:45.6747\ttrain-tweedie-nloglik@1.5:45.4938\n",
      "[335]\teval-tweedie-nloglik@1.5:45.6746\ttrain-tweedie-nloglik@1.5:45.4936\n",
      "[336]\teval-tweedie-nloglik@1.5:45.6744\ttrain-tweedie-nloglik@1.5:45.4928\n",
      "[337]\teval-tweedie-nloglik@1.5:45.6746\ttrain-tweedie-nloglik@1.5:45.4922\n",
      "[338]\teval-tweedie-nloglik@1.5:45.6745\ttrain-tweedie-nloglik@1.5:45.4916\n",
      "[339]\teval-tweedie-nloglik@1.5:45.6745\ttrain-tweedie-nloglik@1.5:45.491\n",
      "[340]\teval-tweedie-nloglik@1.5:45.6745\ttrain-tweedie-nloglik@1.5:45.4907\n",
      "[341]\teval-tweedie-nloglik@1.5:45.6744\ttrain-tweedie-nloglik@1.5:45.4899\n",
      "[342]\teval-tweedie-nloglik@1.5:45.6743\ttrain-tweedie-nloglik@1.5:45.4897\n",
      "[343]\teval-tweedie-nloglik@1.5:45.6743\ttrain-tweedie-nloglik@1.5:45.4894\n",
      "[344]\teval-tweedie-nloglik@1.5:45.6743\ttrain-tweedie-nloglik@1.5:45.4893\n",
      "[345]\teval-tweedie-nloglik@1.5:45.6742\ttrain-tweedie-nloglik@1.5:45.489\n",
      "[346]\teval-tweedie-nloglik@1.5:45.6738\ttrain-tweedie-nloglik@1.5:45.4878\n",
      "[347]\teval-tweedie-nloglik@1.5:45.6738\ttrain-tweedie-nloglik@1.5:45.4878\n",
      "[348]\teval-tweedie-nloglik@1.5:45.6738\ttrain-tweedie-nloglik@1.5:45.4877\n",
      "[349]\teval-tweedie-nloglik@1.5:45.6729\ttrain-tweedie-nloglik@1.5:45.4869\n",
      "[350]\teval-tweedie-nloglik@1.5:45.6728\ttrain-tweedie-nloglik@1.5:45.4861\n",
      "[351]\teval-tweedie-nloglik@1.5:45.6728\ttrain-tweedie-nloglik@1.5:45.4859\n",
      "[352]\teval-tweedie-nloglik@1.5:45.6727\ttrain-tweedie-nloglik@1.5:45.4858\n",
      "[353]\teval-tweedie-nloglik@1.5:45.6716\ttrain-tweedie-nloglik@1.5:45.4852\n",
      "[354]\teval-tweedie-nloglik@1.5:45.6707\ttrain-tweedie-nloglik@1.5:45.484\n",
      "[355]\teval-tweedie-nloglik@1.5:45.6707\ttrain-tweedie-nloglik@1.5:45.484\n",
      "[356]\teval-tweedie-nloglik@1.5:45.6707\ttrain-tweedie-nloglik@1.5:45.4839\n",
      "[357]\teval-tweedie-nloglik@1.5:45.6703\ttrain-tweedie-nloglik@1.5:45.4833\n",
      "[358]\teval-tweedie-nloglik@1.5:45.6702\ttrain-tweedie-nloglik@1.5:45.4828\n",
      "[359]\teval-tweedie-nloglik@1.5:45.6701\ttrain-tweedie-nloglik@1.5:45.4816\n",
      "[360]\teval-tweedie-nloglik@1.5:45.67\ttrain-tweedie-nloglik@1.5:45.4808\n",
      "[361]\teval-tweedie-nloglik@1.5:45.6699\ttrain-tweedie-nloglik@1.5:45.4806\n",
      "[362]\teval-tweedie-nloglik@1.5:45.6697\ttrain-tweedie-nloglik@1.5:45.4805\n",
      "[363]\teval-tweedie-nloglik@1.5:45.6694\ttrain-tweedie-nloglik@1.5:45.4793\n",
      "[364]\teval-tweedie-nloglik@1.5:45.6692\ttrain-tweedie-nloglik@1.5:45.4792\n",
      "[365]\teval-tweedie-nloglik@1.5:45.6692\ttrain-tweedie-nloglik@1.5:45.4789\n",
      "[366]\teval-tweedie-nloglik@1.5:45.6692\ttrain-tweedie-nloglik@1.5:45.4789\n",
      "[367]\teval-tweedie-nloglik@1.5:45.6688\ttrain-tweedie-nloglik@1.5:45.4783\n",
      "[368]\teval-tweedie-nloglik@1.5:45.6687\ttrain-tweedie-nloglik@1.5:45.4782\n",
      "[369]\teval-tweedie-nloglik@1.5:45.6688\ttrain-tweedie-nloglik@1.5:45.4781\n",
      "[370]\teval-tweedie-nloglik@1.5:45.6687\ttrain-tweedie-nloglik@1.5:45.478\n",
      "[371]\teval-tweedie-nloglik@1.5:45.6687\ttrain-tweedie-nloglik@1.5:45.478\n",
      "[372]\teval-tweedie-nloglik@1.5:45.6686\ttrain-tweedie-nloglik@1.5:45.4776\n",
      "[373]\teval-tweedie-nloglik@1.5:45.6685\ttrain-tweedie-nloglik@1.5:45.4769\n",
      "[374]\teval-tweedie-nloglik@1.5:45.6685\ttrain-tweedie-nloglik@1.5:45.4768\n",
      "[375]\teval-tweedie-nloglik@1.5:45.6684\ttrain-tweedie-nloglik@1.5:45.4758\n",
      "[376]\teval-tweedie-nloglik@1.5:45.6684\ttrain-tweedie-nloglik@1.5:45.4758\n",
      "[377]\teval-tweedie-nloglik@1.5:45.6679\ttrain-tweedie-nloglik@1.5:45.4748\n",
      "[378]\teval-tweedie-nloglik@1.5:45.6676\ttrain-tweedie-nloglik@1.5:45.474\n",
      "[379]\teval-tweedie-nloglik@1.5:45.6674\ttrain-tweedie-nloglik@1.5:45.4736\n",
      "[380]\teval-tweedie-nloglik@1.5:45.6672\ttrain-tweedie-nloglik@1.5:45.4727\n",
      "[381]\teval-tweedie-nloglik@1.5:45.667\ttrain-tweedie-nloglik@1.5:45.4716\n",
      "[382]\teval-tweedie-nloglik@1.5:45.6669\ttrain-tweedie-nloglik@1.5:45.4714\n",
      "[383]\teval-tweedie-nloglik@1.5:45.6657\ttrain-tweedie-nloglik@1.5:45.47\n",
      "[384]\teval-tweedie-nloglik@1.5:45.6656\ttrain-tweedie-nloglik@1.5:45.4693\n",
      "[385]\teval-tweedie-nloglik@1.5:45.6654\ttrain-tweedie-nloglik@1.5:45.4692\n",
      "[386]\teval-tweedie-nloglik@1.5:45.6651\ttrain-tweedie-nloglik@1.5:45.469\n",
      "[387]\teval-tweedie-nloglik@1.5:45.665\ttrain-tweedie-nloglik@1.5:45.4687\n",
      "[388]\teval-tweedie-nloglik@1.5:45.6649\ttrain-tweedie-nloglik@1.5:45.4686\n",
      "[389]\teval-tweedie-nloglik@1.5:45.6647\ttrain-tweedie-nloglik@1.5:45.4682\n",
      "[390]\teval-tweedie-nloglik@1.5:45.6646\ttrain-tweedie-nloglik@1.5:45.4678\n",
      "[391]\teval-tweedie-nloglik@1.5:45.6645\ttrain-tweedie-nloglik@1.5:45.4677\n",
      "[392]\teval-tweedie-nloglik@1.5:45.6645\ttrain-tweedie-nloglik@1.5:45.4676\n",
      "[393]\teval-tweedie-nloglik@1.5:45.6645\ttrain-tweedie-nloglik@1.5:45.4674\n",
      "[394]\teval-tweedie-nloglik@1.5:45.6645\ttrain-tweedie-nloglik@1.5:45.4673\n",
      "[395]\teval-tweedie-nloglik@1.5:45.6645\ttrain-tweedie-nloglik@1.5:45.4672\n",
      "[396]\teval-tweedie-nloglik@1.5:45.6645\ttrain-tweedie-nloglik@1.5:45.4672\n",
      "[397]\teval-tweedie-nloglik@1.5:45.6642\ttrain-tweedie-nloglik@1.5:45.4668\n",
      "[398]\teval-tweedie-nloglik@1.5:45.6642\ttrain-tweedie-nloglik@1.5:45.4667\n",
      "[399]\teval-tweedie-nloglik@1.5:45.6642\ttrain-tweedie-nloglik@1.5:45.4666\n",
      "[400]\teval-tweedie-nloglik@1.5:45.6639\ttrain-tweedie-nloglik@1.5:45.4656\n",
      "[401]\teval-tweedie-nloglik@1.5:45.6638\ttrain-tweedie-nloglik@1.5:45.4654\n",
      "[402]\teval-tweedie-nloglik@1.5:45.6638\ttrain-tweedie-nloglik@1.5:45.4651\n",
      "[403]\teval-tweedie-nloglik@1.5:45.6637\ttrain-tweedie-nloglik@1.5:45.4646\n",
      "[404]\teval-tweedie-nloglik@1.5:45.6639\ttrain-tweedie-nloglik@1.5:45.4645\n",
      "[405]\teval-tweedie-nloglik@1.5:45.6639\ttrain-tweedie-nloglik@1.5:45.4644\n",
      "[406]\teval-tweedie-nloglik@1.5:45.6639\ttrain-tweedie-nloglik@1.5:45.4643\n",
      "[407]\teval-tweedie-nloglik@1.5:45.6638\ttrain-tweedie-nloglik@1.5:45.4642\n",
      "[408]\teval-tweedie-nloglik@1.5:45.6637\ttrain-tweedie-nloglik@1.5:45.4638\n",
      "[409]\teval-tweedie-nloglik@1.5:45.6626\ttrain-tweedie-nloglik@1.5:45.4627\n",
      "[410]\teval-tweedie-nloglik@1.5:45.662\ttrain-tweedie-nloglik@1.5:45.4617\n",
      "[411]\teval-tweedie-nloglik@1.5:45.6617\ttrain-tweedie-nloglik@1.5:45.4614\n",
      "[412]\teval-tweedie-nloglik@1.5:45.6618\ttrain-tweedie-nloglik@1.5:45.4613\n",
      "[413]\teval-tweedie-nloglik@1.5:45.6618\ttrain-tweedie-nloglik@1.5:45.4609\n",
      "[414]\teval-tweedie-nloglik@1.5:45.6618\ttrain-tweedie-nloglik@1.5:45.4608\n",
      "[415]\teval-tweedie-nloglik@1.5:45.6619\ttrain-tweedie-nloglik@1.5:45.4604\n",
      "[416]\teval-tweedie-nloglik@1.5:45.6617\ttrain-tweedie-nloglik@1.5:45.46\n",
      "[417]\teval-tweedie-nloglik@1.5:45.6615\ttrain-tweedie-nloglik@1.5:45.4596\n",
      "[418]\teval-tweedie-nloglik@1.5:45.6617\ttrain-tweedie-nloglik@1.5:45.4587\n",
      "[419]\teval-tweedie-nloglik@1.5:45.6611\ttrain-tweedie-nloglik@1.5:45.4581\n",
      "[420]\teval-tweedie-nloglik@1.5:45.6612\ttrain-tweedie-nloglik@1.5:45.458\n",
      "[421]\teval-tweedie-nloglik@1.5:45.661\ttrain-tweedie-nloglik@1.5:45.4573\n",
      "[422]\teval-tweedie-nloglik@1.5:45.6611\ttrain-tweedie-nloglik@1.5:45.4568\n",
      "[423]\teval-tweedie-nloglik@1.5:45.6611\ttrain-tweedie-nloglik@1.5:45.4567\n",
      "[424]\teval-tweedie-nloglik@1.5:45.6612\ttrain-tweedie-nloglik@1.5:45.4565\n",
      "[425]\teval-tweedie-nloglik@1.5:45.6611\ttrain-tweedie-nloglik@1.5:45.4564\n",
      "[426]\teval-tweedie-nloglik@1.5:45.6611\ttrain-tweedie-nloglik@1.5:45.4563\n",
      "[427]\teval-tweedie-nloglik@1.5:45.6611\ttrain-tweedie-nloglik@1.5:45.4563\n",
      "[428]\teval-tweedie-nloglik@1.5:45.661\ttrain-tweedie-nloglik@1.5:45.4558\n",
      "[429]\teval-tweedie-nloglik@1.5:45.6609\ttrain-tweedie-nloglik@1.5:45.4555\n",
      "[430]\teval-tweedie-nloglik@1.5:45.661\ttrain-tweedie-nloglik@1.5:45.4554\n",
      "[431]\teval-tweedie-nloglik@1.5:45.661\ttrain-tweedie-nloglik@1.5:45.4553\n",
      "[432]\teval-tweedie-nloglik@1.5:45.6611\ttrain-tweedie-nloglik@1.5:45.455\n",
      "[433]\teval-tweedie-nloglik@1.5:45.6607\ttrain-tweedie-nloglik@1.5:45.4545\n",
      "[434]\teval-tweedie-nloglik@1.5:45.6607\ttrain-tweedie-nloglik@1.5:45.4544\n",
      "[435]\teval-tweedie-nloglik@1.5:45.6606\ttrain-tweedie-nloglik@1.5:45.4543\n",
      "[436]\teval-tweedie-nloglik@1.5:45.6604\ttrain-tweedie-nloglik@1.5:45.4539\n",
      "[437]\teval-tweedie-nloglik@1.5:45.6603\ttrain-tweedie-nloglik@1.5:45.4537\n",
      "[438]\teval-tweedie-nloglik@1.5:45.6601\ttrain-tweedie-nloglik@1.5:45.4535\n",
      "[439]\teval-tweedie-nloglik@1.5:45.66\ttrain-tweedie-nloglik@1.5:45.4531\n",
      "[440]\teval-tweedie-nloglik@1.5:45.6599\ttrain-tweedie-nloglik@1.5:45.4529\n",
      "[441]\teval-tweedie-nloglik@1.5:45.66\ttrain-tweedie-nloglik@1.5:45.4527\n",
      "[442]\teval-tweedie-nloglik@1.5:45.6599\ttrain-tweedie-nloglik@1.5:45.4522\n",
      "[443]\teval-tweedie-nloglik@1.5:45.6597\ttrain-tweedie-nloglik@1.5:45.4518\n",
      "[444]\teval-tweedie-nloglik@1.5:45.6598\ttrain-tweedie-nloglik@1.5:45.4517\n",
      "[445]\teval-tweedie-nloglik@1.5:45.6596\ttrain-tweedie-nloglik@1.5:45.4514\n",
      "[446]\teval-tweedie-nloglik@1.5:45.6595\ttrain-tweedie-nloglik@1.5:45.4512\n",
      "[447]\teval-tweedie-nloglik@1.5:45.6593\ttrain-tweedie-nloglik@1.5:45.4507\n",
      "[448]\teval-tweedie-nloglik@1.5:45.6593\ttrain-tweedie-nloglik@1.5:45.4506\n",
      "[449]\teval-tweedie-nloglik@1.5:45.6593\ttrain-tweedie-nloglik@1.5:45.4504\n",
      "[450]\teval-tweedie-nloglik@1.5:45.659\ttrain-tweedie-nloglik@1.5:45.4496\n",
      "[451]\teval-tweedie-nloglik@1.5:45.6588\ttrain-tweedie-nloglik@1.5:45.4495\n",
      "[452]\teval-tweedie-nloglik@1.5:45.6586\ttrain-tweedie-nloglik@1.5:45.4487\n",
      "[453]\teval-tweedie-nloglik@1.5:45.6585\ttrain-tweedie-nloglik@1.5:45.4479\n",
      "[454]\teval-tweedie-nloglik@1.5:45.6584\ttrain-tweedie-nloglik@1.5:45.4477\n",
      "[455]\teval-tweedie-nloglik@1.5:45.6583\ttrain-tweedie-nloglik@1.5:45.4473\n",
      "[456]\teval-tweedie-nloglik@1.5:45.6583\ttrain-tweedie-nloglik@1.5:45.4472\n",
      "[457]\teval-tweedie-nloglik@1.5:45.6581\ttrain-tweedie-nloglik@1.5:45.4462\n",
      "[458]\teval-tweedie-nloglik@1.5:45.6579\ttrain-tweedie-nloglik@1.5:45.4459\n",
      "[459]\teval-tweedie-nloglik@1.5:45.6579\ttrain-tweedie-nloglik@1.5:45.4457\n",
      "[460]\teval-tweedie-nloglik@1.5:45.6578\ttrain-tweedie-nloglik@1.5:45.4457\n",
      "[461]\teval-tweedie-nloglik@1.5:45.6579\ttrain-tweedie-nloglik@1.5:45.4451\n",
      "[462]\teval-tweedie-nloglik@1.5:45.6578\ttrain-tweedie-nloglik@1.5:45.4447\n",
      "[463]\teval-tweedie-nloglik@1.5:45.6577\ttrain-tweedie-nloglik@1.5:45.4445\n",
      "[464]\teval-tweedie-nloglik@1.5:45.6577\ttrain-tweedie-nloglik@1.5:45.4443\n",
      "[465]\teval-tweedie-nloglik@1.5:45.6577\ttrain-tweedie-nloglik@1.5:45.4442\n",
      "[466]\teval-tweedie-nloglik@1.5:45.6576\ttrain-tweedie-nloglik@1.5:45.4441\n",
      "[467]\teval-tweedie-nloglik@1.5:45.6576\ttrain-tweedie-nloglik@1.5:45.444\n",
      "[468]\teval-tweedie-nloglik@1.5:45.6574\ttrain-tweedie-nloglik@1.5:45.4437\n",
      "[469]\teval-tweedie-nloglik@1.5:45.6575\ttrain-tweedie-nloglik@1.5:45.4435\n",
      "[470]\teval-tweedie-nloglik@1.5:45.6576\ttrain-tweedie-nloglik@1.5:45.4428\n",
      "[471]\teval-tweedie-nloglik@1.5:45.6575\ttrain-tweedie-nloglik@1.5:45.4425\n",
      "[472]\teval-tweedie-nloglik@1.5:45.6575\ttrain-tweedie-nloglik@1.5:45.4425\n",
      "[473]\teval-tweedie-nloglik@1.5:45.6573\ttrain-tweedie-nloglik@1.5:45.4422\n",
      "[474]\teval-tweedie-nloglik@1.5:45.6574\ttrain-tweedie-nloglik@1.5:45.4418\n",
      "[475]\teval-tweedie-nloglik@1.5:45.6574\ttrain-tweedie-nloglik@1.5:45.4417\n",
      "[476]\teval-tweedie-nloglik@1.5:45.6574\ttrain-tweedie-nloglik@1.5:45.4416\n",
      "[477]\teval-tweedie-nloglik@1.5:45.6572\ttrain-tweedie-nloglik@1.5:45.4414\n",
      "[478]\teval-tweedie-nloglik@1.5:45.6571\ttrain-tweedie-nloglik@1.5:45.4412\n",
      "[479]\teval-tweedie-nloglik@1.5:45.6571\ttrain-tweedie-nloglik@1.5:45.4411\n",
      "[480]\teval-tweedie-nloglik@1.5:45.6569\ttrain-tweedie-nloglik@1.5:45.441\n",
      "[481]\teval-tweedie-nloglik@1.5:45.6568\ttrain-tweedie-nloglik@1.5:45.4408\n",
      "[482]\teval-tweedie-nloglik@1.5:45.6567\ttrain-tweedie-nloglik@1.5:45.4408\n",
      "[483]\teval-tweedie-nloglik@1.5:45.6567\ttrain-tweedie-nloglik@1.5:45.4407\n",
      "[484]\teval-tweedie-nloglik@1.5:45.6566\ttrain-tweedie-nloglik@1.5:45.4406\n",
      "[485]\teval-tweedie-nloglik@1.5:45.6566\ttrain-tweedie-nloglik@1.5:45.4403\n",
      "[486]\teval-tweedie-nloglik@1.5:45.6565\ttrain-tweedie-nloglik@1.5:45.4396\n",
      "[487]\teval-tweedie-nloglik@1.5:45.6566\ttrain-tweedie-nloglik@1.5:45.4394\n",
      "[488]\teval-tweedie-nloglik@1.5:45.6565\ttrain-tweedie-nloglik@1.5:45.4392\n",
      "[489]\teval-tweedie-nloglik@1.5:45.6565\ttrain-tweedie-nloglik@1.5:45.4392\n",
      "[490]\teval-tweedie-nloglik@1.5:45.6565\ttrain-tweedie-nloglik@1.5:45.4391\n",
      "[491]\teval-tweedie-nloglik@1.5:45.6565\ttrain-tweedie-nloglik@1.5:45.439\n",
      "[492]\teval-tweedie-nloglik@1.5:45.6565\ttrain-tweedie-nloglik@1.5:45.4389\n",
      "[493]\teval-tweedie-nloglik@1.5:45.6565\ttrain-tweedie-nloglik@1.5:45.4389\n",
      "[494]\teval-tweedie-nloglik@1.5:45.6563\ttrain-tweedie-nloglik@1.5:45.4385\n",
      "[495]\teval-tweedie-nloglik@1.5:45.6562\ttrain-tweedie-nloglik@1.5:45.4381\n",
      "[496]\teval-tweedie-nloglik@1.5:45.6562\ttrain-tweedie-nloglik@1.5:45.438\n",
      "[497]\teval-tweedie-nloglik@1.5:45.6559\ttrain-tweedie-nloglik@1.5:45.4377\n",
      "[498]\teval-tweedie-nloglik@1.5:45.6558\ttrain-tweedie-nloglik@1.5:45.4375\n",
      "[499]\teval-tweedie-nloglik@1.5:45.6558\ttrain-tweedie-nloglik@1.5:45.4375\n"
     ]
    }
   ],
   "source": [
    "param = {'max_depth': 6, 'eta': 0.1, 'silent': 1, 'objective': 'reg:tweedie'}\n",
    "bst = xgb.train(param, data_train, num_boost_round=500, evals=watch_list)\n",
    "y_hat = bst.predict(data_test)\n",
    "rmse = np.sqrt(np.average((y_hat - np.array(y_test))**2))"
   ]
  },
  {
   "cell_type": "code",
   "execution_count": 25,
   "metadata": {},
   "outputs": [
    {
     "data": {
      "text/plain": [
       "107.89069803898158"
      ]
     },
     "execution_count": 25,
     "metadata": {},
     "output_type": "execute_result"
    }
   ],
   "source": [
    "rmse"
   ]
  },
  {
   "cell_type": "code",
   "execution_count": 5,
   "metadata": {},
   "outputs": [
    {
     "name": "stdout",
     "output_type": "stream",
     "text": [
      "<class 'pandas.core.frame.DataFrame'>\n",
      "RangeIndex: 213645 entries, 0 to 213644\n",
      "Data columns (total 48 columns):\n",
      "订单类型                 213645 non-null int64\n",
      "交易类型                 213645 non-null int64\n",
      "运价（元/吨）              213645 non-null int64\n",
      "车型__0                213645 non-null int64\n",
      "车型__2                213645 non-null int64\n",
      "车型__3                213645 non-null int64\n",
      "车型__4                213645 non-null int64\n",
      "车型__5                213645 non-null int64\n",
      "车型__6                213645 non-null int64\n",
      "车型__7                213645 non-null int64\n",
      "车型__8                213645 non-null int64\n",
      "车型__9                213645 non-null int64\n",
      "车型__10               213645 non-null int64\n",
      "车型__11               213645 non-null int64\n",
      "车型__12               213645 non-null int64\n",
      "车型__13               213645 non-null int64\n",
      "车型__14               213645 non-null int64\n",
      "车型__15               213645 non-null int64\n",
      "车型__16               213645 non-null int64\n",
      "车型__17               213645 non-null int64\n",
      "车型__19               213645 non-null int64\n",
      "春                    213645 non-null int64\n",
      "夏                    213645 non-null int64\n",
      "秋                    213645 non-null int64\n",
      "冬                    213645 non-null int64\n",
      "品类1                  213645 non-null int64\n",
      "品类2                  213645 non-null int64\n",
      "品类3                  213645 non-null int64\n",
      "品类4                  213645 non-null int64\n",
      "start_district__1    213645 non-null int64\n",
      "start_district__2    213645 non-null int64\n",
      "start_district__3    213645 non-null int64\n",
      "start_district__4    213645 non-null int64\n",
      "start_district__5    213645 non-null int64\n",
      "start_district__6    213645 non-null int64\n",
      "start_district__7    213645 non-null int64\n",
      "desti_district__1    213645 non-null int64\n",
      "desti_district__2    213645 non-null int64\n",
      "desti_district__3    213645 non-null int64\n",
      "desti_district__4    213645 non-null int64\n",
      "desti_district__5    213645 non-null int64\n",
      "desti_district__6    213645 non-null int64\n",
      "desti_district__7    213645 non-null int64\n",
      "标准化油价                213645 non-null float64\n",
      "标准化货值（吨/元）           213645 non-null float64\n",
      "标准化运距                213645 non-null float64\n",
      "标准化车长                213645 non-null float64\n",
      "标准化平均温度              213645 non-null float64\n",
      "dtypes: float64(5), int64(43)\n",
      "memory usage: 78.2 MB\n"
     ]
    }
   ],
   "source": [
    "data.info()"
   ]
  },
  {
   "cell_type": "code",
   "execution_count": null,
   "metadata": {
    "collapsed": true
   },
   "outputs": [],
   "source": []
  }
 ],
 "metadata": {
  "kernelspec": {
   "display_name": "Python [idp]",
   "language": "python",
   "name": "Python [idp]"
  },
  "language_info": {
   "codemirror_mode": {
    "name": "ipython",
    "version": 3
   },
   "file_extension": ".py",
   "mimetype": "text/x-python",
   "name": "python",
   "nbconvert_exporter": "python",
   "pygments_lexer": "ipython3",
   "version": "3.6.3"
  }
 },
 "nbformat": 4,
 "nbformat_minor": 2
}
