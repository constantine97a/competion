{
 "cells": [
  {
   "cell_type": "code",
   "execution_count": 78,
   "metadata": {
    "collapsed": true
   },
   "outputs": [],
   "source": [
    "import pandas as pd\n",
    "import numpy as np"
   ]
  },
  {
   "cell_type": "code",
   "execution_count": 79,
   "metadata": {
    "collapsed": true
   },
   "outputs": [],
   "source": [
    "data_test = pd.read_csv('test_data_plus&all.csv')"
   ]
  },
  {
   "cell_type": "code",
   "execution_count": 80,
   "metadata": {
    "collapsed": true
   },
   "outputs": [],
   "source": [
    "northesat = ['黑龙江省','吉林省','辽宁省']\n",
    "huaeast = ['上海市','江苏省','浙江省','安徽省','福建省','江西省','山东省','台湾省']\n",
    "huanorth = ['北京市','天津市','山西省','河北省','内蒙古自治区']\n",
    "huacenter = ['湖北省','湖南省','河南省']\n",
    "huasouth = ['广东省','广西壮族自治区','海南省','香港特别行政区','澳门特别行政区']\n",
    "southwest = ['四川省','贵州省','云南省','重庆市','西藏自治区']\n",
    "northwest = ['陕西省','甘肃省','青海省','宁夏回族自治区','新疆维吾尔自治区']"
   ]
  },
  {
   "cell_type": "code",
   "execution_count": null,
   "metadata": {
    "collapsed": true
   },
   "outputs": [],
   "source": [
    "holiday = ['2018-01-01','2018-02-15','2018-02-16','2018-02-17','2018-02-18','2018-02-19','2018-02-20','2018-02-21']"
   ]
  },
  {
   "cell_type": "code",
   "execution_count": 81,
   "metadata": {
    "collapsed": true
   },
   "outputs": [],
   "source": [
    "data_test.drop(['钢材品类','起运地经度','起运地纬度','目的地经度','目的地纬度','start_district','start_city','desti_district','desti_city',\n",
    "               'start_weather_url','start_weather','start_wind_dire','start_wind_scale','desti_weather_url','desti_max_temp','desti_min_temp',\n",
    "               'desti_weather','desti_wind_dire','desti_wind_scale','desti_unit_oil_price'],axis=1,inplace=True)"
   ]
  },
  {
   "cell_type": "code",
   "execution_count": 82,
   "metadata": {
    "collapsed": true
   },
   "outputs": [],
   "source": [
    "def calc_length(data):\n",
    "    cate = data['车型'].unique().tolist()\n",
    "    dd = pd.DataFrame()\n",
    "    for i in cate:\n",
    "        cate_data = data[data['车型'] == i]\n",
    "        cate_data.loc[cate_data['车长'].isnull(),'车长'] = cate_data.loc[data['车长'].notnull()]['车长'].median()\n",
    "        dd = dd.append(cate_data)\n",
    "    return dd"
   ]
  },
  {
   "cell_type": "code",
   "execution_count": 83,
   "metadata": {},
   "outputs": [
    {
     "name": "stderr",
     "output_type": "stream",
     "text": [
      "C:\\Users\\user\\Anaconda2\\envs\\py35\\lib\\site-packages\\pandas\\core\\indexing.py:517: SettingWithCopyWarning: \n",
      "A value is trying to be set on a copy of a slice from a DataFrame.\n",
      "Try using .loc[row_indexer,col_indexer] = value instead\n",
      "\n",
      "See the caveats in the documentation: http://pandas.pydata.org/pandas-docs/stable/indexing.html#indexing-view-versus-copy\n",
      "  self.obj[item] = s\n"
     ]
    }
   ],
   "source": [
    "data_test = calc_length(data_test)"
   ]
  },
  {
   "cell_type": "code",
   "execution_count": 84,
   "metadata": {},
   "outputs": [],
   "source": [
    "data_test = data_test.sort_values(by='Unnamed: 0',axis=0)"
   ]
  },
  {
   "cell_type": "code",
   "execution_count": 85,
   "metadata": {
    "collapsed": true
   },
   "outputs": [],
   "source": [
    "data_test.drop('Unnamed: 0',axis=1,inplace=True)"
   ]
  },
  {
   "cell_type": "code",
   "execution_count": 86,
   "metadata": {
    "collapsed": true
   },
   "outputs": [],
   "source": [
    "data_test = data_test.join(pd.get_dummies(data_test['车型'],prefix='车型_'))\n",
    "data_test.drop('车型',axis=1,inplace=True)"
   ]
  },
  {
   "cell_type": "code",
   "execution_count": 87,
   "metadata": {
    "collapsed": true
   },
   "outputs": [],
   "source": [
    "#将日期处理成季节\n",
    "def season_transform(date):\n",
    "    if date[5:7] == '01' or date[5:7] == '02' or date[5:7] == '03':\n",
    "        x = 1\n",
    "    elif date[5:7] == '04' or date[5:7] == '05' or date[5:7] == '06':\n",
    "        x = 2\n",
    "    elif date[5:7] == '07' or date[5:7] == '08' or date[5:7] == '09':\n",
    "        x = 3\n",
    "    elif date[5:7] == '10' or date[5:7] == '11' or date[5:7] == '12':\n",
    "        x = 4\n",
    "    return x\n",
    "date = data_test[['日期']].applymap(season_transform)\n",
    "date.rename(columns={'日期':'季节'},inplace=True)\n",
    "data_test = data_test.join(date)\n",
    "date_dummies = pd.get_dummies(data_test['季节'])\n",
    "date_dummies.rename(columns={1:'春',2:'夏',3:'秋',4:'冬'},inplace=True)\n",
    "data_test = data_test.join(date_dummies)\n",
    "data_test.drop('季节',axis=1,inplace=True)\n",
    "data_test.drop('日期',axis=1,inplace=True)"
   ]
  },
  {
   "cell_type": "code",
   "execution_count": 11,
   "metadata": {
    "collapsed": true
   },
   "outputs": [],
   "source": [
    "#将日期处理成节日\n",
    "def date_transform(date):\n",
    "    if date in holiday:\n",
    "        x = 1\n",
    "    else:\n",
    "        x = 0\n",
    "    return x\n",
    "date = data_test[['日期']].applymap(date_transform)\n",
    "date.rename(columns={'日期':'节日'},inplace=True)\n",
    "data_test = data_test.join(date)\n",
    "data_test.drop('日期',axis=1,inplace=True)"
   ]
  },
  {
   "cell_type": "code",
   "execution_count": 90,
   "metadata": {
    "collapsed": true
   },
   "outputs": [],
   "source": [
    "data_test = data_test.join(pd.get_dummies(data_test['一级品类']))\n",
    "data_test.rename(columns={1:'品类1',2:'品类2',3:'品类3',4:'品类4'},inplace=True)"
   ]
  },
  {
   "cell_type": "code",
   "execution_count": 91,
   "metadata": {
    "collapsed": true
   },
   "outputs": [],
   "source": [
    "data_test.drop('一级品类',axis=1,inplace=True)"
   ]
  },
  {
   "cell_type": "code",
   "execution_count": 92,
   "metadata": {
    "collapsed": true
   },
   "outputs": [],
   "source": [
    "def province_transform(province):\n",
    "    if province in northesat:\n",
    "        x = 1\n",
    "    elif province in huaeast:\n",
    "        x = 2\n",
    "    elif province in huanorth:\n",
    "        x = 3\n",
    "    elif province in huacenter:\n",
    "        x = 4\n",
    "    elif province in huasouth:\n",
    "        x = 5\n",
    "    elif province in southwest:\n",
    "        x = 6\n",
    "    elif province in northwest:\n",
    "        x = 7\n",
    "    return x"
   ]
  },
  {
   "cell_type": "code",
   "execution_count": 93,
   "metadata": {
    "collapsed": true
   },
   "outputs": [],
   "source": [
    "start_district = data_test[['start_province']].applymap(province_transform)\n",
    "start_district.rename(columns={'start_province':'start_district'},inplace=True)\n",
    "data_test = data_test.join(start_district)"
   ]
  },
  {
   "cell_type": "code",
   "execution_count": 94,
   "metadata": {
    "collapsed": true
   },
   "outputs": [],
   "source": [
    "desti_district = data_test[['desti_province']].applymap(province_transform)\n",
    "desti_district.rename(columns={'desti_province':'desti_district'},inplace=True)\n",
    "data_test = data_test.join(desti_district)"
   ]
  },
  {
   "cell_type": "code",
   "execution_count": 95,
   "metadata": {
    "collapsed": true
   },
   "outputs": [],
   "source": [
    "start_district_dummies = pd.get_dummies(data_test['start_district'],prefix='start_district_')\n",
    "desti_district_dummies = pd.get_dummies(data_test['desti_district'],prefix='desti_district_')"
   ]
  },
  {
   "cell_type": "code",
   "execution_count": 96,
   "metadata": {
    "collapsed": true
   },
   "outputs": [],
   "source": [
    "data_test = pd.concat([data_test,start_district_dummies,desti_district_dummies],axis=1)"
   ]
  },
  {
   "cell_type": "code",
   "execution_count": 97,
   "metadata": {
    "collapsed": true
   },
   "outputs": [],
   "source": [
    "data_test.drop(['start_province','desti_province','start_district','desti_district'],axis=1,inplace=True)"
   ]
  },
  {
   "cell_type": "code",
   "execution_count": 98,
   "metadata": {
    "collapsed": true
   },
   "outputs": [],
   "source": [
    "mean_temp = []\n",
    "for i in range(len(data_test)):\n",
    "    temp = (float(data_test['start_max_temp'][i]) + float(data_test['start_min_temp'][i])) / 2\n",
    "    mean_temp.append(temp)\n",
    "mean_t = pd.DataFrame(mean_temp)"
   ]
  },
  {
   "cell_type": "code",
   "execution_count": 99,
   "metadata": {
    "collapsed": true
   },
   "outputs": [],
   "source": [
    "mean_t.rename(columns={0:'平均温度'},inplace=True)"
   ]
  },
  {
   "cell_type": "code",
   "execution_count": 100,
   "metadata": {
    "collapsed": true
   },
   "outputs": [],
   "source": [
    "data_test = data_test.join(mean_t)\n",
    "data_test.drop(['start_max_temp','start_min_temp'],axis=1,inplace=True)"
   ]
  },
  {
   "cell_type": "code",
   "execution_count": 101,
   "metadata": {
    "collapsed": true
   },
   "outputs": [],
   "source": [
    "std_oil_value = data_test[['start_unit_oil_price']].apply(lambda x: (x - np.min(x)) / (np.max(x) - np.min(x)))\n",
    "std_oil_value.rename(columns={'start_unit_oil_price':'标准化油价'},inplace=True)\n",
    "data_test = data_test.join(std_oil_value)\n",
    "std_value = data_test[['货值（吨/元）']].apply(lambda x: (x - np.min(x)) / (np.max(x) - np.min(x)))\n",
    "std_value.rename(columns={'货值（吨/元）':'标准化货值（吨/元）'},inplace=True)\n",
    "data_test = data_test.join(std_value)\n",
    "std_dist = data_test[['运距']].apply(lambda x: (x - np.min(x)) / (np.max(x) - np.min(x)))\n",
    "std_dist.rename(columns={'运距':'标准化运距'},inplace=True)\n",
    "data_test = data_test.join(std_dist)\n",
    "std_car_size = data_test[['车长']].apply(lambda x: (x - np.min(x)) / (np.max(x) - np.min(x)))\n",
    "std_car_size.rename(columns={'车长':'标准化车长'},inplace=True)\n",
    "data_test = data_test.join(std_car_size)\n",
    "std_temp = data_test[['平均温度']].apply(lambda x: (x - np.min(x)) / (np.max(x) - np.min(x)))\n",
    "std_temp.rename(columns={'平均温度':'标准化平均温度'},inplace=True)\n",
    "data_test = data_test.join(std_temp)\n",
    "data_test.drop(['start_unit_oil_price','货值（吨/元）','运距','车长','平均温度'],axis=1,inplace=True)"
   ]
  },
  {
   "cell_type": "code",
   "execution_count": 102,
   "metadata": {
    "collapsed": true
   },
   "outputs": [],
   "source": [
    "data_test.to_csv('test_features(season).csv')"
   ]
  },
  {
   "cell_type": "code",
   "execution_count": null,
   "metadata": {
    "collapsed": true
   },
   "outputs": [],
   "source": []
  }
 ],
 "metadata": {
  "kernelspec": {
   "display_name": "Python [idp]",
   "language": "python",
   "name": "Python [idp]"
  },
  "language_info": {
   "codemirror_mode": {
    "name": "ipython",
    "version": 3
   },
   "file_extension": ".py",
   "mimetype": "text/x-python",
   "name": "python",
   "nbconvert_exporter": "python",
   "pygments_lexer": "ipython3",
   "version": "3.6.3"
  }
 },
 "nbformat": 4,
 "nbformat_minor": 2
}
